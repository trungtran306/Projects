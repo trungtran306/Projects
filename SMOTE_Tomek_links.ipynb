{
  "nbformat": 4,
  "nbformat_minor": 0,
  "metadata": {
    "colab": {
      "name": "SMOTE-Tomek links.ipynb",
      "provenance": [],
      "authorship_tag": "ABX9TyM1fMO3I+qBbROqIesMABVL",
      "include_colab_link": true
    },
    "kernelspec": {
      "name": "python3",
      "display_name": "Python 3"
    },
    "language_info": {
      "name": "python"
    }
  },
  "cells": [
    {
      "cell_type": "markdown",
      "metadata": {
        "id": "view-in-github",
        "colab_type": "text"
      },
      "source": [
        "<a href=\"https://colab.research.google.com/github/trungtran306/Projects/blob/main/SMOTE_Tomek_links.ipynb\" target=\"_parent\"><img src=\"https://colab.research.google.com/assets/colab-badge.svg\" alt=\"Open In Colab\"/></a>"
      ]
    },
    {
      "cell_type": "code",
      "metadata": {
        "colab": {
          "base_uri": "https://localhost:8080/"
        },
        "id": "w5zkcFRo2TET",
        "outputId": "a5a83243-3044-4e44-f90c-519719e0b673"
      },
      "source": [
        "import pandas as pd\n",
        "import numpy as np\n",
        "from imblearn.pipeline import Pipeline\n",
        "import matplotlib.pyplot as plt\n",
        "from sklearn.datasets import make_classification\n",
        "from sklearn.model_selection import cross_validate\n",
        "from sklearn.model_selection import RepeatedStratifiedKFold \n",
        "from sklearn.ensemble import RandomForestClassifier\n",
        "from imblearn.combine import SMOTETomek\n",
        "from imblearn.under_sampling import TomekLinks\n"
      ],
      "execution_count": 2,
      "outputs": [
        {
          "output_type": "stream",
          "text": [
            "/usr/local/lib/python3.7/dist-packages/sklearn/externals/six.py:31: FutureWarning: The module is deprecated in version 0.21 and will be removed in version 0.23 since we've dropped support for Python 2.7. Please rely on the official version of six (https://pypi.org/project/six/).\n",
            "  \"(https://pypi.org/project/six/).\", FutureWarning)\n",
            "/usr/local/lib/python3.7/dist-packages/sklearn/utils/deprecation.py:144: FutureWarning: The sklearn.neighbors.base module is  deprecated in version 0.22 and will be removed in version 0.24. The corresponding classes / functions should instead be imported from sklearn.neighbors. Anything that cannot be imported from sklearn.neighbors is now part of the private API.\n",
            "  warnings.warn(message, FutureWarning)\n"
          ],
          "name": "stderr"
        }
      ]
    },
    {
      "cell_type": "code",
      "metadata": {
        "id": "nC-ZVs2j2VSY"
      },
      "source": [
        "#Dummy dataset study case\n",
        "X, Y = make_classification(n_samples=10000, n_features=4,\n",
        "n_redundant=0, flip_y=0, random_state=1)"
      ],
      "execution_count": 4,
      "outputs": []
    },
    {
      "cell_type": "code",
      "metadata": {
        "colab": {
          "base_uri": "https://localhost:8080/"
        },
        "id": "8m3WlGPJ2bEb",
        "outputId": "9847880b-f24f-447e-d9d7-84496bef81bb"
      },
      "source": [
        "## No Imbalance Handling\n",
        "# Define model \n",
        "model_ori=RandomForestClassifier(criterion='entropy')\n",
        "# Define evaluation procedure (here we use Repeated Stratified K- Fold CV)\n",
        "cv_ori=RepeatedStratifiedKFold(n_splits=10, n_repeats=3, random_state=1)\n",
        "# Evaluate model \n",
        "scoring=['accuracy','precision_macro','recall_macro']\n",
        "scores_ori = cross_validate(model_ori, X, Y, scoring=scoring, cv=cv_ori, n_jobs=-1)\n",
        "# summarize performance\n",
        "print('Mean Accuracy: %.4f' % np.mean(scores_ori['test_accuracy'])) \n",
        "print('Mean Precision: %.4f' % np.mean(scores_ori['test_precision_macro']))\n",
        "print('Mean Recall: %.4f' % np.mean(scores_ori['test_recall_macro']))"
      ],
      "execution_count": 8,
      "outputs": [
        {
          "output_type": "stream",
          "text": [
            "Mean Accuracy: 0.9644\n",
            "Mean Precision: 0.9649\n",
            "Mean Recall: 0.9644\n"
          ],
          "name": "stdout"
        }
      ]
    },
    {
      "cell_type": "code",
      "metadata": {
        "colab": {
          "base_uri": "https://localhost:8080/"
        },
        "id": "irOFL_kR2gq3",
        "outputId": "7651a360-018f-47db-e64d-8c6c2d4787f5"
      },
      "source": [
        "## With SMOTE-Tomek Links method\n",
        "# Define model\n",
        "model=RandomForestClassifier(criterion='entropy')\n",
        "# Define SMOTE-Tomek Links \n",
        "resample=SMOTETomek(tomek=TomekLinks(sampling_strategy='majority')) # Define pipeline\n",
        "pipeline=Pipeline(steps=[('r', resample), ('m', model)])\n",
        "# Define evaluation procedure (here we use Repeated Stratified K- Fold CV)\n",
        "cv=RepeatedStratifiedKFold(n_splits=10, n_repeats=3, random_state=1) # Evaluate model scoring=['accuracy','precision_macro','recall_macro']\n",
        "scores = cross_validate(pipeline, X, Y, scoring=scoring, cv=cv, n_jobs=-1)\n",
        "# summarize performance\n",
        "print('Mean Accuracy: %.4f' % np.mean(scores['test_accuracy'])) \n",
        "print('Mean Precision: %.4f' % np.mean(scores['test_precision_macro']))\n",
        "print('Mean Recall: %.4f' % np.mean(scores['test_recall_macro']))"
      ],
      "execution_count": 10,
      "outputs": [
        {
          "output_type": "stream",
          "text": [
            "Mean Accuracy: 0.9628\n",
            "Mean Precision: 0.9631\n",
            "Mean Recall: 0.9628\n"
          ],
          "name": "stdout"
        }
      ]
    },
    {
      "cell_type": "code",
      "metadata": {
        "id": "lzfQCJE_27th"
      },
      "source": [
        ""
      ],
      "execution_count": null,
      "outputs": []
    }
  ]
}